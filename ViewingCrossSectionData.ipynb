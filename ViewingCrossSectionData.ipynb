{
 "cells": [
  {
   "cell_type": "markdown",
   "id": "ba7cd546",
   "metadata": {},
   "source": [
    "In this notebook, we can load and manipulate the nuclear data contained in the various HDF5 file."
   ]
  },
  {
   "cell_type": "code",
   "execution_count": 1,
   "id": "d1ad06e0",
   "metadata": {},
   "outputs": [],
   "source": [
    "import openmc\n",
    "import numpy as np\n",
    "import matplotlib.pyplot as plt\n",
    "import os"
   ]
  },
  {
   "cell_type": "code",
   "execution_count": 2,
   "id": "3a33f933",
   "metadata": {},
   "outputs": [],
   "source": [
    "def clean_dir(object):\n",
    "    \"\"\"Clean listing of object attributes.\"\"\"\n",
    "    for item in dir(object):\n",
    "        if '__' not in item:\n",
    "            print(item)"
   ]
  },
  {
   "cell_type": "code",
   "execution_count": 3,
   "id": "59e69a21",
   "metadata": {},
   "outputs": [],
   "source": [
    "xspath = \"\"\n",
    "try:\n",
    "    xspath = os.environ['OPENMC_CROSS_SECTIONS']\n",
    "    xspath = xspath[:xspath.index('cross_sections.xml')]\n",
    "except:\n",
    "    print(\"Make sure OPENMC_CROSS_SECTIONS is defined!\")"
   ]
  },
  {
   "cell_type": "markdown",
   "id": "4ed1076d",
   "metadata": {},
   "source": [
    "First, load the data for U-238:"
   ]
  },
  {
   "cell_type": "code",
   "execution_count": 4,
   "id": "366ac4b9",
   "metadata": {},
   "outputs": [
    {
     "name": "stdout",
     "output_type": "stream",
     "text": [
      "<class 'openmc.data.neutron.IncidentNeutron'>\n"
     ]
    }
   ],
   "source": [
    "xs_u238 = openmc.data.IncidentNeutron.from_hdf5(xspath+\"U238.h5\")\n",
    "print(type(xs_u238))"
   ]
  },
  {
   "cell_type": "markdown",
   "id": "6b4f70a8",
   "metadata": {},
   "source": [
    "The various reaction types can be accessed by their ENDF MT identifier; the list of reactions for this nuclide is as follows: "
   ]
  },
  {
   "cell_type": "code",
   "execution_count": 5,
   "id": "8304fd8e",
   "metadata": {},
   "outputs": [
    {
     "data": {
      "text/plain": [
       "OrderedDict([(2, <Reaction: MT=2 (n,elastic)>),\n",
       "             (5, <Reaction: MT=5 (n,misc)>),\n",
       "             (16, <Reaction: MT=16 (n,2n)>),\n",
       "             (17, <Reaction: MT=17 (n,3n)>),\n",
       "             (18, <Reaction: MT=18 (n,fission)>),\n",
       "             (51, <Reaction: MT=51 (n,n1)>),\n",
       "             (52, <Reaction: MT=52 (n,n2)>),\n",
       "             (53, <Reaction: MT=53 (n,n3)>),\n",
       "             (54, <Reaction: MT=54 (n,n4)>),\n",
       "             (55, <Reaction: MT=55 (n,n5)>),\n",
       "             (56, <Reaction: MT=56 (n,n6)>),\n",
       "             (57, <Reaction: MT=57 (n,n7)>),\n",
       "             (58, <Reaction: MT=58 (n,n8)>),\n",
       "             (59, <Reaction: MT=59 (n,n9)>),\n",
       "             (60, <Reaction: MT=60 (n,n10)>),\n",
       "             (61, <Reaction: MT=61 (n,n11)>),\n",
       "             (62, <Reaction: MT=62 (n,n12)>),\n",
       "             (63, <Reaction: MT=63 (n,n13)>),\n",
       "             (64, <Reaction: MT=64 (n,n14)>),\n",
       "             (65, <Reaction: MT=65 (n,n15)>),\n",
       "             (66, <Reaction: MT=66 (n,n16)>),\n",
       "             (67, <Reaction: MT=67 (n,n17)>),\n",
       "             (68, <Reaction: MT=68 (n,n18)>),\n",
       "             (69, <Reaction: MT=69 (n,n19)>),\n",
       "             (70, <Reaction: MT=70 (n,n20)>),\n",
       "             (71, <Reaction: MT=71 (n,n21)>),\n",
       "             (72, <Reaction: MT=72 (n,n22)>),\n",
       "             (73, <Reaction: MT=73 (n,n23)>),\n",
       "             (74, <Reaction: MT=74 (n,n24)>),\n",
       "             (75, <Reaction: MT=75 (n,n25)>),\n",
       "             (76, <Reaction: MT=76 (n,n26)>),\n",
       "             (77, <Reaction: MT=77 (n,n27)>),\n",
       "             (78, <Reaction: MT=78 (n,n28)>),\n",
       "             (79, <Reaction: MT=79 (n,n29)>),\n",
       "             (80, <Reaction: MT=80 (n,n30)>),\n",
       "             (81, <Reaction: MT=81 (n,n31)>),\n",
       "             (82, <Reaction: MT=82 (n,n32)>),\n",
       "             (83, <Reaction: MT=83 (n,n33)>),\n",
       "             (84, <Reaction: MT=84 (n,n34)>),\n",
       "             (85, <Reaction: MT=85 (n,n35)>),\n",
       "             (86, <Reaction: MT=86 (n,n36)>),\n",
       "             (87, <Reaction: MT=87 (n,n37)>),\n",
       "             (88, <Reaction: MT=88 (n,n38)>),\n",
       "             (89, <Reaction: MT=89 (n,n39)>),\n",
       "             (91, <Reaction: MT=91 (n,nc)>),\n",
       "             (102, <Reaction: MT=102 (n,gamma)>),\n",
       "             (103, <Reaction: MT=103 (n,p)>),\n",
       "             (107, <Reaction: MT=107 (n,a)>),\n",
       "             (203, <Reaction: MT=203 (n,Xp)>),\n",
       "             (204, <Reaction: MT=204 (n,Xd)>),\n",
       "             (205, <Reaction: MT=205 (n,Xt)>),\n",
       "             (206, <Reaction: MT=206 (n,X3He)>),\n",
       "             (207, <Reaction: MT=207 (n,Xa)>),\n",
       "             (301, <Reaction: MT=301 heating>),\n",
       "             (444, <Reaction: MT=444 damage-energy>),\n",
       "             (649, <Reaction: MT=649 (n,pc)>),\n",
       "             (800, <Reaction: MT=800 (n,a0)>),\n",
       "             (901, <Reaction: MT=901 heating-local>)])"
      ]
     },
     "execution_count": 5,
     "metadata": {},
     "output_type": "execute_result"
    }
   ],
   "source": [
    "xs_u238.reactions"
   ]
  },
  {
   "cell_type": "markdown",
   "id": "d3a4980e",
   "metadata": {},
   "source": [
    "Let's inspect reaction `MT=102`, i.e., the $(n,\\gamma)$ reaction:"
   ]
  },
  {
   "cell_type": "code",
   "execution_count": 6,
   "id": "a5609f17",
   "metadata": {},
   "outputs": [
    {
     "name": "stdout",
     "output_type": "stream",
     "text": [
      "type[<Reaction: MT=102 (n,gamma)>]\n",
      "\n",
      "_center_of_mass\n",
      "_derived_products\n",
      "_products\n",
      "_q_value\n",
      "_redundant\n",
      "_xs\n",
      "center_of_mass\n",
      "derived_products\n",
      "from_ace\n",
      "from_endf\n",
      "from_hdf5\n",
      "mt\n",
      "products\n",
      "q_value\n",
      "redundant\n",
      "to_hdf5\n",
      "xs\n"
     ]
    }
   ],
   "source": [
    "xs_capture_u238 = xs_u238[102]\n",
    "print(type[xs_capture_u238])\n",
    "print(\"\")\n",
    "clean_dir(xs_capture_u238)"
   ]
  },
  {
   "cell_type": "markdown",
   "id": "b0314484",
   "metadata": {},
   "source": [
    "The attribute we want is `xs`:"
   ]
  },
  {
   "cell_type": "code",
   "execution_count": 7,
   "id": "10197222",
   "metadata": {},
   "outputs": [
    {
     "data": {
      "text/plain": [
       "{'1200K': <openmc.data.function.Tabulated1D at 0x7fd0220c1760>,\n",
       " '2500K': <openmc.data.function.Tabulated1D at 0x7fd02282ca00>,\n",
       " '250K': <openmc.data.function.Tabulated1D at 0x7fd0220cac40>,\n",
       " '294K': <openmc.data.function.Tabulated1D at 0x7fd0220caca0>,\n",
       " '600K': <openmc.data.function.Tabulated1D at 0x7fd0220cad30>,\n",
       " '900K': <openmc.data.function.Tabulated1D at 0x7fd0220cad90>}"
      ]
     },
     "execution_count": 7,
     "metadata": {},
     "output_type": "execute_result"
    }
   ],
   "source": [
    "xs_u238[102].xs"
   ]
  },
  {
   "cell_type": "markdown",
   "id": "41530898",
   "metadata": {},
   "source": [
    "This shows that the HDF5 file includes data for U-238 evaluated at several temperatures.  Let's choose 294K:"
   ]
  },
  {
   "cell_type": "code",
   "execution_count": 8,
   "id": "0407817d",
   "metadata": {},
   "outputs": [
    {
     "name": "stdout",
     "output_type": "stream",
     "text": [
      "_abc_impl\n",
      "_breakpoints\n",
      "_interpolate_scalar\n",
      "_interpolation\n",
      "_threshold_idx\n",
      "_x\n",
      "_y\n",
      "breakpoints\n",
      "from_ace\n",
      "from_hdf5\n",
      "integral\n",
      "interpolation\n",
      "n_pairs\n",
      "n_regions\n",
      "to_hdf5\n",
      "x\n",
      "y\n"
     ]
    }
   ],
   "source": [
    "clean_dir(xs_u238[102].xs['294K'])"
   ]
  },
  {
   "cell_type": "markdown",
   "id": "37bf217e",
   "metadata": {},
   "source": [
    "The `x` and `y` attributes are the energies and cross-section values we want:"
   ]
  },
  {
   "cell_type": "code",
   "execution_count": 9,
   "id": "ea6a0a94",
   "metadata": {},
   "outputs": [
    {
     "data": {
      "image/png": "[encoded data removed]",
      "text/plain": [
       "<Figure size 432x288 with 1 Axes>"
      ]
     },
     "metadata": {
      "needs_background": "light"
     },
     "output_type": "display_data"
    }
   ],
   "source": [
    "E294 = xs_u238[102].xs['294K'].x\n",
    "Sigma294 = xs_u238[102].xs['294K'].y\n",
    "\n",
    "plt.loglog(E294, Sigma294, lw=0.5);\n",
    "plt.xlabel('E (eV)')\n",
    "plt.ylabel('$\\sigma_{\\gamma}(E)$ (b)')\n",
    "plt.show()"
   ]
  },
  {
   "cell_type": "markdown",
   "id": "d140ceed",
   "metadata": {},
   "source": [
    "We can also inspect the same cross sections at different temperatures, e.g.,"
   ]
  },
  {
   "cell_type": "code",
   "execution_count": 10,
   "id": "61571dd9",
   "metadata": {},
   "outputs": [
    {
     "data": {
      "image/png": "[encoded data removed]",
      "text/plain": [
       "<Figure size 432x288 with 1 Axes>"
      ]
     },
     "metadata": {
      "needs_background": "light"
     },
     "output_type": "display_data"
    }
   ],
   "source": [
    "E1200 = xs_u238[102].xs['1200K'].x\n",
    "Sigma1200 = xs_u238[102].xs['1200K'].y\n",
    "plt.loglog(E294, Sigma294, lw=1);\n",
    "plt.loglog(E1200, Sigma1200, lw=1);\n",
    "plt.xlabel('E (eV)')\n",
    "plt.ylabel('$\\sigma_{\\gamma}(E)$ (b)')\n",
    "plt.xlim(4, 100)\n",
    "plt.ylim(1e-2, 1e4)\n",
    "plt.show()"
   ]
  },
  {
   "cell_type": "markdown",
   "id": "d3e7151f",
   "metadata": {},
   "source": [
    "With this interface to the cross-section data, one can easily construct cross-section vectors on arbitrary energy grids for computing things like the narrow-resonance flux spectrum."
   ]
  }
 ],
 "metadata": {
  "kernelspec": {
   "display_name": "Python 3 (ipykernel)",
   "language": "python",
   "name": "python3"
  },
  "language_info": {
   "codemirror_mode": {
    "name": "ipython",
    "version": 3
   },
   "file_extension": ".py",
   "mimetype": "text/x-python",
   "name": "python",
   "nbconvert_exporter": "python",
   "pygments_lexer": "ipython3",
   "version": "3.9.7"
  }
 },
 "nbformat": 4,
 "nbformat_minor": 5
}
