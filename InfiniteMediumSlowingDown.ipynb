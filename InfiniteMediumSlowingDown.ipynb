{
 "cells": [
  {
   "cell_type": "code",
   "execution_count": 1,
   "id": "d8322943",
   "metadata": {},
   "outputs": [],
   "source": [
    "import openmc\n",
    "import numpy as np\n",
    "import os"
   ]
  },
  {
   "cell_type": "markdown",
   "id": "32acaf98",
   "metadata": {},
   "source": [
    "# Load the Materials"
   ]
  },
  {
   "cell_type": "code",
   "execution_count": 2,
   "id": "67b365fe",
   "metadata": {},
   "outputs": [],
   "source": [
    "materials = openmc.Materials.from_xml() # must have materials.xml defined!\n",
    "uo2, water, uo2_water = materials"
   ]
  },
  {
   "cell_type": "markdown",
   "id": "6dabdca0",
   "metadata": {},
   "source": [
    "# Define the Geometry"
   ]
  },
  {
   "cell_type": "markdown",
   "id": "63dd81b0",
   "metadata": {},
   "source": [
    "With our infinite-medium materials defined, let's simulate neutron slowing down in an infinite medium.  To model an infinite, homogeneous reactor, we define a the region to be the inside of a unit sphere with a reflecting boundary."
   ]
  },
  {
   "cell_type": "code",
   "execution_count": 3,
   "id": "204aea0e",
   "metadata": {},
   "outputs": [],
   "source": [
    "radius = 1.0\n",
    "sphere = openmc.Sphere(r=radius, boundary_type='reflective')\n",
    "stuff = openmc.Cell(name='fuel')\n",
    "stuff.fill = uo2_water\n",
    "stuff.region = -sphere # the \"-\" means \"inside of\"\n",
    "root_universe = openmc.Universe(cells=[stuff])\n",
    "geometry = openmc.Geometry(root_universe)\n",
    "geometry.export_to_xml()"
   ]
  },
  {
   "cell_type": "markdown",
   "id": "e4676195",
   "metadata": {},
   "source": [
    "# Define the Source and Other Settings"
   ]
  },
  {
   "cell_type": "markdown",
   "id": "0b41ba7e",
   "metadata": {},
   "source": [
    "Let there be a uniformly distributed and isotropic source of 10 MeV neutrons throughout the sphere.  We'll simulate 10 batches of 10000 particles each.  Because we do not want the impact of neutrons born from fission, we turn off that feature.  To help improve our results, we'll use survival biasing."
   ]
  },
  {
   "cell_type": "code",
   "execution_count": 4,
   "id": "06b6c02f",
   "metadata": {},
   "outputs": [],
   "source": [
    "# Source 10 MeV source uniformly distributed in the unit sphere\n",
    "source = openmc.Source(space=openmc.stats.spherical_uniform(1.0))\n",
    "source.angle = openmc.stats.Isotropic()\n",
    "source.energy = openmc.stats.Discrete([1e7], [1.0])\n",
    "settings = openmc.Settings()\n",
    "settings.source = source\n",
    "settings.batches = 10\n",
    "settings.inactive = 0\n",
    "settings.particles = 10000\n",
    "settings.run_mode = 'fixed source'\n",
    "settings.create_fission_neutrons = False\n",
    "settings.survival_biasing = True\n",
    "settings.export_to_xml()"
   ]
  },
  {
   "cell_type": "markdown",
   "id": "c915a0c8",
   "metadata": {},
   "source": [
    "# Define Tallies "
   ]
  },
  {
   "cell_type": "markdown",
   "id": "3a7e57b4",
   "metadata": {},
   "source": [
    "Our main interest is to compute the slowing-down spectrum, so we tally the flux over the entire domain with the same energy grid used for our [NarrowResonanceSpectra](NarrowResonanceSpectra.ipynb)."
   ]
  },
  {
   "cell_type": "code",
   "execution_count": 5,
   "id": "95348e61",
   "metadata": {},
   "outputs": [],
   "source": [
    "cell_filter = openmc.CellFilter(stuff)\n",
    "E_bounds = np.logspace(-3, 7, 50000)\n",
    "spectrum_filter = openmc.EnergyFilter(E_bounds)\n",
    "spectrum_tally = openmc.Tally(1)\n",
    "spectrum_tally.filters = [cell_filter, spectrum_filter]\n",
    "spectrum_tally.scores = ['flux']\n",
    "\n",
    "tallies = openmc.Tallies([spectrum_tally])\n",
    "tallies.export_to_xml()"
   ]
  },
  {
   "cell_type": "markdown",
   "id": "2bbcf04a",
   "metadata": {},
   "source": [
    "# Run OpenMC and Load the Tallies"
   ]
  },
  {
   "cell_type": "code",
   "execution_count": 6,
   "id": "25ce6ac2",
   "metadata": {},
   "outputs": [
    {
     "name": "stdout",
     "output_type": "stream",
     "text": [
      "                                %%%%%%%%%%%%%%%\n",
      "                           %%%%%%%%%%%%%%%%%%%%%%%%\n",
      "                        %%%%%%%%%%%%%%%%%%%%%%%%%%%%%%\n",
      "                      %%%%%%%%%%%%%%%%%%%%%%%%%%%%%%%%%%\n",
      "                    %%%%%%%%%%%%%%%%%%%%%%%%%%%%%%%%%%%%%%\n",
      "                   %%%%%%%%%%%%%%%%%%%%%%%%%%%%%%%%%%%%%%%%\n",
      "                                    %%%%%%%%%%%%%%%%%%%%%%%%\n",
      "                                     %%%%%%%%%%%%%%%%%%%%%%%%\n",
      "                 ###############      %%%%%%%%%%%%%%%%%%%%%%%%\n",
      "                ##################     %%%%%%%%%%%%%%%%%%%%%%%\n",
      "                ###################     %%%%%%%%%%%%%%%%%%%%%%%\n",
      "                ####################     %%%%%%%%%%%%%%%%%%%%%%\n",
      "                #####################     %%%%%%%%%%%%%%%%%%%%%\n",
      "                ######################     %%%%%%%%%%%%%%%%%%%%\n",
      "                #######################     %%%%%%%%%%%%%%%%%%\n",
      "                 #######################     %%%%%%%%%%%%%%%%%\n",
      "                 ######################     %%%%%%%%%%%%%%%%%\n",
      "                  ####################     %%%%%%%%%%%%%%%%%\n",
      "                    #################     %%%%%%%%%%%%%%%%%\n",
      "                     ###############     %%%%%%%%%%%%%%%%\n",
      "                       ############     %%%%%%%%%%%%%%%\n",
      "                          ########     %%%%%%%%%%%%%%\n",
      "                                      %%%%%%%%%%%\n",
      "\n",
      "                 | The OpenMC Monte Carlo Code\n",
      "       Copyright | 2011-2022 MIT, UChicago Argonne LLC, and contributors\n",
      "         License | https://docs.openmc.org/en/latest/license.html\n",
      "         Version | 0.13.1\n",
      "        Git SHA1 | 1c52643b18795de95946d07f4ab67c638c66761a\n",
      "       Date/Time | 2022-10-02 11:54:31\n",
      "  OpenMP Threads | 8\n",
      "\n",
      " Reading settings XML file...\n",
      " Reading cross sections XML file...\n",
      " WARNING: Cross section library /home/robertsj/ne630/ne648_hdf5/c_H_in_H2O.h5\n",
      "          does not exist.\n",
      " WARNING: Cross section library /home/robertsj/ne630/ne648_hdf5/c_H_in_D2O.h5\n",
      "          does not exist.\n",
      " Reading materials XML file...\n",
      " Reading geometry XML file...\n",
      " Reading U235 from /home/robertsj/ne630/ne648_hdf5/U235.h5\n",
      " Reading U238 from /home/robertsj/ne630/ne648_hdf5/U238.h5\n",
      " Reading O16 from /home/robertsj/ne630/ne648_hdf5/O16.h5\n",
      " Reading H1 from /home/robertsj/ne630/ne648_hdf5/H1.h5\n",
      " Minimum neutron data temperature: 294 K\n",
      " Maximum neutron data temperature: 294 K\n",
      " Reading tallies XML file...\n",
      " Preparing distributed cell instances...\n",
      " Reading plot XML file...\n",
      " Writing summary.h5 file...\n",
      " Maximum neutron transport energy: 20000000 eV for H1\n",
      "\n",
      " ===============>     FIXED SOURCE TRANSPORT SIMULATION     <===============\n",
      "\n",
      " Simulating batch 1\n",
      " Simulating batch 2\n",
      " Simulating batch 3\n",
      " Simulating batch 4\n",
      " Simulating batch 5\n",
      " Simulating batch 6\n",
      " Simulating batch 7\n",
      " Simulating batch 8\n",
      " Simulating batch 9\n",
      " Simulating batch 10\n",
      " Creating state point statepoint.10.h5...\n",
      "\n",
      " =======================>     TIMING STATISTICS     <=======================\n",
      "\n",
      " Total time for initialization     = 2.0087e+00 seconds\n",
      "   Reading cross sections          = 1.9674e+00 seconds\n",
      " Total time in simulation          = 8.1721e+00 seconds\n",
      "   Time in transport only          = 8.1068e+00 seconds\n",
      "   Time in active batches          = 8.1721e+00 seconds\n",
      "   Time accumulating tallies       = 2.9119e-02 seconds\n",
      "   Time writing statepoints        = 2.6807e-02 seconds\n",
      " Total time for finalization       = 2.3835e-01 seconds\n",
      " Total time elapsed                = 1.0422e+01 seconds\n",
      " Calculation Rate (active)         = 12236.7 particles/second\n",
      "\n",
      " ============================>     RESULTS     <============================\n",
      "\n",
      " Leakage Fraction            = 0.00000 +/- 0.00000\n",
      "\n"
     ]
    }
   ],
   "source": [
    "openmc.run()"
   ]
  },
  {
   "cell_type": "code",
   "execution_count": 7,
   "id": "1fab1211",
   "metadata": {},
   "outputs": [],
   "source": [
    "sp = openmc.StatePoint('statepoint.10.h5')\n",
    "tally = sp.get_tally(id=1)\n",
    "phi_MC = tally.mean.flatten()\n",
    "phi_MC = phi_MC / np.diff(E_bounds)\n",
    "phi_NR = np.load('nr_flux.npy')"
   ]
  },
  {
   "cell_type": "code",
   "execution_count": 8,
   "id": "9f185e25",
   "metadata": {},
   "outputs": [
    {
     "data": {
      "text/plain": [
       "(0.01, 1000000.0)"
      ]
     },
     "execution_count": 8,
     "metadata": {},
     "output_type": "execute_result"
    },
    {
     "data": {
      "image/png": "[encoded data removed]",
      "text/plain": [
       "<Figure size 640x480 with 1 Axes>"
      ]
     },
     "metadata": {},
     "output_type": "display_data"
    }
   ],
   "source": [
    "import matplotlib.pyplot as plt\n",
    "plt.loglog(E_bounds[1:], phi_MC/50, 'b--', lw=0.5, alpha=0.5)\n",
    "plt.loglog(E_bounds, phi_NR, 'k', lw=0.2)\n",
    "plt.xlabel('E (eV)')\n",
    "plt.ylabel('$\\phi(E)$');\n",
    "plt.xlim(0.01, 1e6)"
   ]
  }
 ],
 "metadata": {
  "kernelspec": {
   "display_name": "Python 3 (ipykernel)",
   "language": "python",
   "name": "python3"
  },
  "language_info": {
   "codemirror_mode": {
    "name": "ipython",
    "version": 3
   },
   "file_extension": ".py",
   "mimetype": "text/x-python",
   "name": "python",
   "nbconvert_exporter": "python",
   "pygments_lexer": "ipython3",
   "version": "3.10.4"
  }
 },
 "nbformat": 4,
 "nbformat_minor": 5
}
