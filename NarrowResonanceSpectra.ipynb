{
 "cells": [
  {
   "cell_type": "markdown",
   "id": "79a72289",
   "metadata": {},
   "source": [
    "In class, we learned that the narrow-resonance approximation leads to a slowing-down flux spectrum of the form\n",
    "\n",
    "$$\n",
    "  \\phi_{NR}(E) = \\frac{1}{E \\Sigma_t(E)} \\, ,\n",
    "$$\n",
    "\n",
    "where $\\Sigma_t(E)$ is the macroscopic, total cross section for a homogeneous material."
   ]
  },
  {
   "cell_type": "markdown",
   "id": "7e9d446b",
   "metadata": {},
   "source": [
    "Let's compute the narrow-resonance spectrum for our UO2/water mix defined in [InfiniteMediumMaterials](InfiniteMediumMaterials.ipynb).   First, let's load the materials from the generated XML file:"
   ]
  },
  {
   "cell_type": "code",
   "execution_count": 1,
   "id": "d4e0b2d4",
   "metadata": {},
   "outputs": [],
   "source": [
    "import openmc\n",
    "import numpy as np\n",
    "import os"
   ]
  },
  {
   "cell_type": "code",
   "execution_count": 2,
   "id": "3737b7c3",
   "metadata": {},
   "outputs": [],
   "source": [
    "materials = openmc.Materials.from_xml(); # must have materials.xml defined!"
   ]
  },
  {
   "cell_type": "markdown",
   "id": "329de75a",
   "metadata": {},
   "source": [
    "Extract the `uo2_water` material and inspect its composition:"
   ]
  },
  {
   "cell_type": "code",
   "execution_count": 3,
   "id": "c4ef0cba",
   "metadata": {},
   "outputs": [],
   "source": [
    "uo2_water = materials[2]"
   ]
  },
  {
   "cell_type": "code",
   "execution_count": 4,
   "id": "5b5dbb02",
   "metadata": {},
   "outputs": [
    {
     "data": {
      "text/plain": [
       "[NuclideTuple(name='U235', percent=0.005400716699057935, percent_type='ao'),\n",
       " NuclideTuple(name='U238', percent=0.12797998450734668, percent_type='ao'),\n",
       " NuclideTuple(name='O16', percent=0.4668072483889763, percent_type='ao'),\n",
       " NuclideTuple(name='H1', percent=0.39981205040461903, percent_type='ao')]"
      ]
     },
     "execution_count": 4,
     "metadata": {},
     "output_type": "execute_result"
    }
   ],
   "source": [
    "uo2_water.nuclides"
   ]
  },
  {
   "cell_type": "markdown",
   "id": "56ea55fa",
   "metadata": {},
   "source": [
    "Each nuclide in the mixture has a `name` that corresponds to the HDF5 file that contains the data.  In addition, the atom fraction for each nuclide is given.  Hence, to compute the total cross section requires that we loop over these nuclides, open the cross section file, and extract the data as shown in [ViewingCrossSections](ViewingCrossSections.ipynb).  Here, we'll load only the 294K values.  Note, the *total* cross section is the sum of all the reactions for MT=2 through MT=117.  For most nuclides, the majority of the total cross section comes from elastic scattering (MT=2), capture (MT=102), and fission (MT=18), so we'll approximate the total cross section using those reactions."
   ]
  },
  {
   "cell_type": "code",
   "execution_count": 5,
   "id": "dd6ad05d",
   "metadata": {},
   "outputs": [],
   "source": [
    "xspath = \"\"\n",
    "try:\n",
    "    xspath = os.environ['OPENMC_CROSS_SECTIONS']\n",
    "    xspath = xspath[:xspath.index('cross_sections.xml')]\n",
    "except:\n",
    "    print(\"Make sure OPENMC_CROSS_SECTIONS is defined!\")"
   ]
  },
  {
   "cell_type": "code",
   "execution_count": 6,
   "id": "ab8320c9",
   "metadata": {},
   "outputs": [],
   "source": [
    "data = {}\n",
    "for i in range(len(uo2_water.nuclides)):\n",
    "    nucl = uo2_water.nuclides[i]\n",
    "    # load HDF5\n",
    "    file = openmc.data.IncidentNeutron.from_hdf5(xspath+nucl.name+\".h5\")\n",
    "    # Extract energies and sigmas\n",
    "    E = file[2].xs['294K'].x\n",
    "    sigT = file[2].xs['294K'].y\n",
    "    if 18 in file: # some nuclides have no fission data\n",
    "        sigT += file[18].xs['294K'].y\n",
    "    sigT += file[102].xs['294K'].y\n",
    "    data[nucl.name] = {}\n",
    "    data[nucl.name]['E'] = E\n",
    "    data[nucl.name]['sigT'] = sigT"
   ]
  },
  {
   "cell_type": "markdown",
   "id": "19af4c28",
   "metadata": {},
   "source": [
    "Now, we need to choose an energy grid on which to define all the cross sections:"
   ]
  },
  {
   "cell_type": "code",
   "execution_count": 7,
   "id": "e4fbce61",
   "metadata": {},
   "outputs": [],
   "source": [
    "E = np.logspace(-3, 7, 50000)"
   ]
  },
  {
   "cell_type": "markdown",
   "id": "243693cd",
   "metadata": {},
   "source": [
    "Then, we loop through the nuclides, interpolate the microscopic total cross section on the energy grid, multiply the result by the atomic fraction, and add that to the macroscopic cross section. Using the atomic fraction here is just fine since the total cross section would scale with the overall material mass density."
   ]
  },
  {
   "cell_type": "code",
   "execution_count": 8,
   "id": "889f6254",
   "metadata": {},
   "outputs": [],
   "source": [
    "SigT = np.zeros_like(E)\n",
    "for nucl in uo2_water.nuclides:\n",
    "    atomic_percent = nucl.percent\n",
    "    SigT += np.interp(E, data[nucl.name]['E'], data[nucl.name]['sigT'])"
   ]
  },
  {
   "cell_type": "code",
   "execution_count": 9,
   "id": "33e95cd0",
   "metadata": {},
   "outputs": [
    {
     "data": {
      "image/png": "[encoded data removed]",
      "text/plain": [
       "<Figure size 432x288 with 1 Axes>"
      ]
     },
     "metadata": {
      "needs_background": "light"
     },
     "output_type": "display_data"
    }
   ],
   "source": [
    "import matplotlib.pyplot as plt\n",
    "phi_NR = 1/(E*SigT)\n",
    "plt.loglog(E, phi_NR, lw=0.5)\n",
    "\n",
    "plt.xlabel('E (eV)')\n",
    "plt.ylabel('$\\phi(E)$');\n",
    "\n",
    "np.save('nr_flux.npy', phi_NR)"
   ]
  }
 ],
 "metadata": {
  "kernelspec": {
   "display_name": "Python 3 (ipykernel)",
   "language": "python",
   "name": "python3"
  },
  "language_info": {
   "codemirror_mode": {
    "name": "ipython",
    "version": 3
   },
   "file_extension": ".py",
   "mimetype": "text/x-python",
   "name": "python",
   "nbconvert_exporter": "python",
   "pygments_lexer": "ipython3",
   "version": "3.9.7"
  }
 },
 "nbformat": 4,
 "nbformat_minor": 5
}
