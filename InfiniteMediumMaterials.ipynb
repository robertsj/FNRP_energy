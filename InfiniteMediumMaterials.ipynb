{
 "cells": [
  {
   "cell_type": "code",
   "execution_count": 1,
   "id": "1e4a1d6b",
   "metadata": {},
   "outputs": [],
   "source": [
    "import openmc\n",
    "import numpy as np"
   ]
  },
  {
   "cell_type": "markdown",
   "id": "34d86c1a",
   "metadata": {},
   "source": [
    "For our infinite medium calculations, we'll use three different materials: water, UO$_2$, and a mixture of water and UO$_2$.\n",
    "\n",
    "First, let's define the UO$_2$, which we'll take to be 4 w/o enriched (i.e., of the uranium mass, 4% is U-235).  OpenMC supports a variety of ways to define materials; here, we'll use mass fractions and set the mass density."
   ]
  },
  {
   "cell_type": "code",
   "execution_count": 2,
   "id": "495311bc",
   "metadata": {},
   "outputs": [],
   "source": [
    "MUO2 = 238*0.96 + 235*0.04 + 32.0\n",
    "MU = 238*0.96 + 235*0.04\n",
    "uo2 = openmc.Material(name=\"uo2\")\n",
    "uo2.add_nuclide('U235', 0.04*MU/MUO2, 'wo')\n",
    "uo2.add_nuclide('U238', 0.96*MU/MUO2, 'wo')\n",
    "uo2.add_nuclide('O16',  (MUO2-MU)/MUO2, 'wo')\n",
    "uo2.set_density('g/cm3', 10.0)"
   ]
  },
  {
   "cell_type": "markdown",
   "id": "2dfd6fc6",
   "metadata": {},
   "source": [
    "To check that the resulting material is correct, note that the number density (in 1/b-cm) of U235 should be"
   ]
  },
  {
   "cell_type": "code",
   "execution_count": 3,
   "id": "1dcb9076",
   "metadata": {},
   "outputs": [
    {
     "data": {
      "text/plain": [
       "0.0009034832565458566"
      ]
     },
     "execution_count": 3,
     "metadata": {},
     "output_type": "execute_result"
    }
   ],
   "source": [
    "0.04*MU/MUO2*10.0/235*6.022e23*1e-24"
   ]
  },
  {
   "cell_type": "markdown",
   "id": "dea32ad5",
   "metadata": {},
   "source": [
    "We can inspect the number densities computed by OpenMC via"
   ]
  },
  {
   "cell_type": "code",
   "execution_count": 4,
   "id": "e31b2e87",
   "metadata": {},
   "outputs": [
    {
     "data": {
      "text/plain": [
       "OrderedDict([('U235', 0.000903335515705231),\n",
       "             ('U238', 0.021406208054767537),\n",
       "             ('O16', 0.04464247386494846)])"
      ]
     },
     "execution_count": 4,
     "metadata": {},
     "output_type": "execute_result"
    }
   ],
   "source": [
    "uo2.get_nuclide_atom_densities()"
   ]
  },
  {
   "cell_type": "markdown",
   "id": "fdbc0ef8",
   "metadata": {},
   "source": [
    "from which we can determine the numbers are consistent (the difference being from OpenMC's use of the actual atomic masses of the nuclides, e.g., 238.0507 and change instead of 238)."
   ]
  },
  {
   "cell_type": "markdown",
   "id": "f22e5d8c",
   "metadata": {},
   "source": [
    "Now, for the water and fuel/water mixture:"
   ]
  },
  {
   "cell_type": "code",
   "execution_count": 5,
   "id": "cd1ff4e5",
   "metadata": {},
   "outputs": [],
   "source": [
    "water = openmc.Material(name=\"h2o\")\n",
    "water.add_nuclide('H1', 2.0)\n",
    "water.add_nuclide('O16', 1.0)\n",
    "water.set_density('g/cm3', 1.0)"
   ]
  },
  {
   "cell_type": "code",
   "execution_count": 6,
   "id": "1fd80781",
   "metadata": {},
   "outputs": [],
   "source": [
    "uo2_water = openmc.Material.mix_materials([uo2, water], [0.5, 0.5], 'vo')"
   ]
  },
  {
   "cell_type": "markdown",
   "id": "caefb08f",
   "metadata": {},
   "source": [
    "With these three materials defined, we can produce the `materials.xml` file required by OpenMC for simulations that need these materials."
   ]
  },
  {
   "cell_type": "code",
   "execution_count": 7,
   "id": "ed4e9160",
   "metadata": {},
   "outputs": [],
   "source": [
    "materials = openmc.Materials([uo2, water, uo2_water])\n",
    "materials.export_to_xml()"
   ]
  }
 ],
 "metadata": {
  "kernelspec": {
   "display_name": "Python 3 (ipykernel)",
   "language": "python",
   "name": "python3"
  },
  "language_info": {
   "codemirror_mode": {
    "name": "ipython",
    "version": 3
   },
   "file_extension": ".py",
   "mimetype": "text/x-python",
   "name": "python",
   "nbconvert_exporter": "python",
   "pygments_lexer": "ipython3",
   "version": "3.10.4"
  }
 },
 "nbformat": 4,
 "nbformat_minor": 5
}
