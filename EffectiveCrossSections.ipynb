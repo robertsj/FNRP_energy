{
 "cells": [
  {
   "cell_type": "code",
   "execution_count": 1,
   "id": "6af72a92",
   "metadata": {},
   "outputs": [],
   "source": [
    "import numpy as np\n",
    "import matplotlib.pyplot as plt\n",
    "import openmc\n",
    "import openmc.mgxs as mgxs"
   ]
  },
  {
   "cell_type": "code",
   "execution_count": 2,
   "id": "28993951",
   "metadata": {},
   "outputs": [],
   "source": [
    "materials = openmc.Materials.from_xml(\"infmed_materials.xml\") "
   ]
  },
  {
   "cell_type": "code",
   "execution_count": 3,
   "id": "aa9a849e",
   "metadata": {},
   "outputs": [
    {
     "name": "stderr",
     "output_type": "stream",
     "text": [
      "/home/robertsj/opt/miniconda3/lib/python3.9/site-packages/openmc/mixin.py:67: IDWarning: Another Material instance already exists with id=1.\n",
      "  warn(msg, IDWarning)\n",
      "/home/robertsj/opt/miniconda3/lib/python3.9/site-packages/openmc/mixin.py:67: IDWarning: Another Material instance already exists with id=2.\n",
      "  warn(msg, IDWarning)\n",
      "/home/robertsj/opt/miniconda3/lib/python3.9/site-packages/openmc/mixin.py:67: IDWarning: Another Material instance already exists with id=3.\n",
      "  warn(msg, IDWarning)\n"
     ]
    }
   ],
   "source": [
    "geometry = openmc.Geometry.from_xml('infmed_geometry.xml')"
   ]
  },
  {
   "cell_type": "code",
   "execution_count": 4,
   "id": "d6aca7f6",
   "metadata": {},
   "outputs": [],
   "source": [
    "settings = openmc.Settings.from_xml(\"slowingdown_settings.xml\")\n",
    "settings.run_mode = 'eigenvalue'"
   ]
  },
  {
   "cell_type": "code",
   "execution_count": 5,
   "id": "fe3a3b6c",
   "metadata": {},
   "outputs": [
    {
     "name": "stderr",
     "output_type": "stream",
     "text": [
      "/home/robertsj/opt/miniconda3/lib/python3.9/site-packages/openmc/mixin.py:67: IDWarning: Another Filter instance already exists with id=1.\n",
      "  warn(msg, IDWarning)\n",
      "/home/robertsj/opt/miniconda3/lib/python3.9/site-packages/openmc/mixin.py:67: IDWarning: Another Filter instance already exists with id=2.\n",
      "  warn(msg, IDWarning)\n",
      "/home/robertsj/opt/miniconda3/lib/python3.9/site-packages/openmc/mixin.py:67: IDWarning: Another Filter instance already exists with id=9.\n",
      "  warn(msg, IDWarning)\n"
     ]
    }
   ],
   "source": [
    "# Instantiate a 2-group EnergyGroups object\n",
    "groups = mgxs.EnergyGroups()\n",
    "groups.group_edges = np.array([1e-5, 0.625, 10.0e6])\n",
    "\n",
    "# Instantiate a few different sections\n",
    "cell = geometry.get_all_cells()[1]\n",
    "total = mgxs.TotalXS(domain=cell, groups=groups)\n",
    "absorption = mgxs.AbsorptionXS(domain=cell, groups=groups)\n",
    "nufission = mgxs.FissionXS(domain=cell, groups=groups, nu=True)\n",
    "scattering = mgxs.ScatterXS(domain=cell, groups=groups, nu=True)\n",
    "scattering = mgxs.ScatterMatrixXS(domain=cell, groups=groups)\n",
    "scattering.correction = None \n",
    "chi = mgxs.Chi(domain=cell, groups=groups)\n",
    "\n",
    "tallies = openmc.Tallies()\n",
    "tallies += total.tallies.values()\n",
    "tallies += nufission.tallies.values()\n",
    "tallies += absorption.tallies.values()\n",
    "tallies += scattering.tallies.values()\n",
    "tallies += chi.tallies.values()\n",
    "\n",
    "tallies.export_to_xml('effxs_settings.xml')"
   ]
  },
  {
   "cell_type": "code",
   "execution_count": 6,
   "id": "a5074818",
   "metadata": {},
   "outputs": [
    {
     "name": "stdout",
     "output_type": "stream",
     "text": [
      "                                %%%%%%%%%%%%%%%\n",
      "                           %%%%%%%%%%%%%%%%%%%%%%%%\n",
      "                        %%%%%%%%%%%%%%%%%%%%%%%%%%%%%%\n",
      "                      %%%%%%%%%%%%%%%%%%%%%%%%%%%%%%%%%%\n",
      "                    %%%%%%%%%%%%%%%%%%%%%%%%%%%%%%%%%%%%%%\n",
      "                   %%%%%%%%%%%%%%%%%%%%%%%%%%%%%%%%%%%%%%%%\n",
      "                                    %%%%%%%%%%%%%%%%%%%%%%%%\n",
      "                                     %%%%%%%%%%%%%%%%%%%%%%%%\n",
      "                 ###############      %%%%%%%%%%%%%%%%%%%%%%%%\n",
      "                ##################     %%%%%%%%%%%%%%%%%%%%%%%\n",
      "                ###################     %%%%%%%%%%%%%%%%%%%%%%%\n",
      "                ####################     %%%%%%%%%%%%%%%%%%%%%%\n",
      "                #####################     %%%%%%%%%%%%%%%%%%%%%\n",
      "                ######################     %%%%%%%%%%%%%%%%%%%%\n",
      "                #######################     %%%%%%%%%%%%%%%%%%\n",
      "                 #######################     %%%%%%%%%%%%%%%%%\n",
      "                 ######################     %%%%%%%%%%%%%%%%%\n",
      "                  ####################     %%%%%%%%%%%%%%%%%\n",
      "                    #################     %%%%%%%%%%%%%%%%%\n",
      "                     ###############     %%%%%%%%%%%%%%%%\n",
      "                       ############     %%%%%%%%%%%%%%%\n",
      "                          ########     %%%%%%%%%%%%%%\n",
      "                                      %%%%%%%%%%%\n",
      "\n",
      "                 | The OpenMC Monte Carlo Code\n",
      "       Copyright | 2011-2022 MIT, UChicago Argonne LLC, and contributors\n",
      "         License | https://docs.openmc.org/en/latest/license.html\n",
      "         Version | 0.13.1-dev\n",
      "        Git SHA1 | 50cafaf61c5cb937714316f3441a3b891daf832e\n",
      "       Date/Time | 2022-10-04 16:30:48\n",
      "  OpenMP Threads | 28\n",
      "\n",
      " Reading settings XML file...\n",
      " Reading cross sections XML file...\n",
      " Reading materials XML file...\n",
      " Reading geometry XML file...\n",
      " Reading U235 from /home/robertsj/opt/openmc/data/endfb80_hdf5/U235.h5\n",
      " Reading U238 from /home/robertsj/opt/openmc/data/endfb80_hdf5/U238.h5\n",
      " Reading O16 from /home/robertsj/opt/openmc/data/endfb80_hdf5/O16.h5\n",
      " Reading H1 from /home/robertsj/opt/openmc/data/endfb80_hdf5/H1.h5\n",
      " Minimum neutron data temperature: 294 K\n",
      " Maximum neutron data temperature: 294 K\n",
      " Reading tallies XML file...\n",
      " Preparing distributed cell instances...\n",
      " Reading plot XML file...\n",
      " Writing summary.h5 file...\n",
      " Maximum neutron transport energy: 20000000 eV for H1\n",
      " Initializing source particles...\n",
      "\n",
      " ====================>     K EIGENVALUE SIMULATION     <====================\n",
      "\n",
      "  Bat./Gen.      k            Average k\n",
      "  =========   ========   ====================\n",
      "        1/1    1.80389\n",
      "        2/1    1.31136    1.55763 +/- 0.24627\n",
      "        3/1    1.33015    1.48180 +/- 0.16114\n",
      "        4/1    1.30464    1.43751 +/- 0.12225\n",
      "        5/1    1.29890    1.40979 +/- 0.09867\n",
      "        6/1    1.28442    1.38889 +/- 0.08323\n",
      "        7/1    1.28736    1.37439 +/- 0.07182\n",
      "        8/1    1.29567    1.36455 +/- 0.06297\n",
      "        9/1    1.30495    1.35793 +/- 0.05593\n",
      "       10/1    1.32062    1.35420 +/- 0.05016\n",
      " Creating state point statepoint.10.h5...\n",
      "\n",
      " =======================>     TIMING STATISTICS     <=======================\n",
      "\n",
      " Total time for initialization     = 1.1948e+00 seconds\n",
      "   Reading cross sections          = 1.1822e+00 seconds\n",
      " Total time in simulation          = 1.3452e+00 seconds\n",
      "   Time in transport only          = 1.2916e+00 seconds\n",
      "   Time in inactive batches        = 0.0000e+00 seconds\n",
      "   Time in active batches          = 1.3452e+00 seconds\n",
      "   Time synchronizing fission bank = 1.3404e-02 seconds\n",
      "     Sampling source sites         = 1.1370e-02 seconds\n",
      "     SEND/RECV source sites        = 1.9916e-03 seconds\n",
      "   Time accumulating tallies       = 1.5582e-02 seconds\n",
      "   Time writing statepoints        = 1.2982e-02 seconds\n",
      " Total time for finalization       = 2.3140e-04 seconds\n",
      " Total time elapsed                = 2.5510e+00 seconds\n",
      " Calculation Rate (active)         = 74337.8 particles/second\n",
      "\n",
      " ============================>     RESULTS     <============================\n",
      "\n",
      " k-effective (Collision)     = 1.35433 +/- 0.05014\n",
      " k-effective (Track-length)  = 1.35420 +/- 0.05016\n",
      " k-effective (Absorption)    = 1.35470 +/- 0.04932\n",
      " Combined k-effective        = 1.35499 +/- 0.05505\n",
      " Leakage Fraction            = 0.00000 +/- 0.00000\n",
      "\n"
     ]
    }
   ],
   "source": [
    "# Write all needed xml files to their default names\n",
    "for xml in [materials, geometry, settings, tallies]:\n",
    "    xml.export_to_xml()\n",
    "    \n",
    "openmc.run()"
   ]
  },
  {
   "cell_type": "code",
   "execution_count": 7,
   "id": "fd928bbc",
   "metadata": {},
   "outputs": [],
   "source": [
    "sp = openmc.StatePoint('statepoint.10.h5')\n",
    "# Load the tallies from the statepoint into each MGXS object\n",
    "total.load_from_statepoint(sp)\n",
    "absorption.load_from_statepoint(sp)\n",
    "nufission.load_from_statepoint(sp)\n",
    "scattering.load_from_statepoint(sp)\n",
    "chi.load_from_statepoint(sp)\n",
    "# Close the statepoint file now that we're done getting info\n",
    "sp.close()"
   ]
  },
  {
   "cell_type": "code",
   "execution_count": 8,
   "id": "09da70fd",
   "metadata": {},
   "outputs": [
    {
     "name": "stdout",
     "output_type": "stream",
     "text": [
      "Multi-Group XS\n",
      "\tReaction Type  =\ttotal\n",
      "\tDomain Type    =\tcell\n",
      "\tDomain ID      =\t1\n",
      "\tCross Sections [cm^-1]:\n",
      "            Group 1 [0.625      - 10000000.0eV]:\t6.28e-01 +/- 3.71e+00%\n",
      "            Group 2 [1e-05      - 0.625     eV]:\t1.28e+00 +/- 1.08e+00%\n",
      "\n",
      "\n",
      "\n"
     ]
    }
   ],
   "source": [
    "total.print_xs()"
   ]
  },
  {
   "cell_type": "code",
   "execution_count": 9,
   "id": "9275b667",
   "metadata": {},
   "outputs": [
    {
     "name": "stdout",
     "output_type": "stream",
     "text": [
      "Multi-Group XS\n",
      "\tReaction Type  =\tscatter matrix (P0)\n",
      "\tDomain Type    =\tcell\n",
      "\tDomain ID      =\t1\n",
      "\tEnergy Groups: \n",
      "            Group 1 [0.625      - 10000000.0eV]\n",
      "            Group 2 [1e-05      - 0.625     eV]\n",
      "\tNuclide        =\tsum\n",
      "\tCross Sections [cm^-1]:\n",
      "            Group 1 -> Group 1:\t\t5.95e-01 +/- 3.68e+00%\n",
      "            Group 1 -> Group 2:\t\t1.67e-02 +/- 3.76e+00%\n",
      "\n",
      "            Group 2 -> Group 1:\t\t7.91e-04 +/- 5.82e+00%\n",
      "            Group 2 -> Group 2:\t\t1.09e+00 +/- 1.08e+00%\n",
      "\n",
      "\n",
      "\n",
      "\n",
      "\n"
     ]
    }
   ],
   "source": [
    "scattering.print_xs()"
   ]
  },
  {
   "cell_type": "code",
   "execution_count": 10,
   "id": "c95eb051",
   "metadata": {},
   "outputs": [
    {
     "data": {
      "text/plain": [
       "array([[0.62809368, 0.        ],\n",
       "       [0.        , 1.28259656]])"
      ]
     },
     "execution_count": 10,
     "metadata": {},
     "output_type": "execute_result"
    }
   ],
   "source": [
    "T = np.diag(total.get_xs()); T"
   ]
  },
  {
   "cell_type": "code",
   "execution_count": 11,
   "id": "0509ef7b",
   "metadata": {},
   "outputs": [
    {
     "data": {
      "text/plain": [
       "array([[5.94793459e-01, 7.91479532e-04],\n",
       "       [1.66536741e-02, 1.08535587e+00]])"
      ]
     },
     "execution_count": 11,
     "metadata": {},
     "output_type": "execute_result"
    }
   ],
   "source": [
    "S = scattering.get_xs().T; S"
   ]
  },
  {
   "cell_type": "code",
   "execution_count": 12,
   "id": "60515f71",
   "metadata": {},
   "outputs": [
    {
     "data": {
      "text/plain": [
       "array([0.01372892, 0.35643866])"
      ]
     },
     "execution_count": 12,
     "metadata": {},
     "output_type": "execute_result"
    }
   ],
   "source": [
    "F = nufission.get_xs(); F"
   ]
  },
  {
   "cell_type": "code",
   "execution_count": 13,
   "id": "a914ebd0",
   "metadata": {},
   "outputs": [
    {
     "data": {
      "text/plain": [
       "array([0.01650701, 0.19614989])"
      ]
     },
     "execution_count": 13,
     "metadata": {},
     "output_type": "execute_result"
    }
   ],
   "source": [
    "A = absorption.get_xs(); A"
   ]
  },
  {
   "cell_type": "code",
   "execution_count": 24,
   "id": "ad4c5e3f",
   "metadata": {},
   "outputs": [
    {
     "data": {
      "text/plain": [
       "array([0.99982656, 0.        ])"
      ]
     },
     "execution_count": 24,
     "metadata": {},
     "output_type": "execute_result"
    }
   ],
   "source": [
    "X = chi.get_xs();   X"
   ]
  },
  {
   "cell_type": "code",
   "execution_count": 25,
   "id": "0e6d3d3e",
   "metadata": {},
   "outputs": [
    {
     "data": {
      "text/plain": [
       "array([[0.01372654, 0.35637684],\n",
       "       [0.        , 0.        ]])"
      ]
     },
     "execution_count": 25,
     "metadata": {},
     "output_type": "execute_result"
    }
   ],
   "source": [
    "FF = np.outer(X, F); FF"
   ]
  },
  {
   "cell_type": "code",
   "execution_count": 26,
   "id": "2d2542ab",
   "metadata": {},
   "outputs": [
    {
     "data": {
      "text/plain": [
       "array([[ 0.03330022, -0.00079148],\n",
       "       [-0.01665367,  0.19724069]])"
      ]
     },
     "execution_count": 26,
     "metadata": {},
     "output_type": "execute_result"
    }
   ],
   "source": [
    "MM = T - S; MM"
   ]
  },
  {
   "cell_type": "code",
   "execution_count": 27,
   "id": "65f93095",
   "metadata": {},
   "outputs": [
    {
     "data": {
      "text/plain": [
       "array([30.08500178,  2.54017473])"
      ]
     },
     "execution_count": 27,
     "metadata": {},
     "output_type": "execute_result"
    }
   ],
   "source": [
    "np.linalg.solve(MM, X)"
   ]
  },
  {
   "cell_type": "code",
   "execution_count": 28,
   "id": "04168f7d",
   "metadata": {},
   "outputs": [
    {
     "data": {
      "text/plain": [
       "array([30.86071256,  2.60943251])"
      ]
     },
     "execution_count": 28,
     "metadata": {},
     "output_type": "execute_result"
    }
   ],
   "source": [
    "scattering.get_flux()"
   ]
  },
  {
   "cell_type": "code",
   "execution_count": 29,
   "id": "c7b33176",
   "metadata": {},
   "outputs": [
    {
     "data": {
      "text/plain": [
       "array([0.97480528, 0.97405991])"
      ]
     },
     "execution_count": 29,
     "metadata": {},
     "output_type": "execute_result"
    }
   ],
   "source": [
    "np.linalg.solve(MM, [1, 0]) / total.get_flux()"
   ]
  },
  {
   "cell_type": "code",
   "execution_count": 20,
   "id": "1babf84d",
   "metadata": {},
   "outputs": [
    {
     "data": {
      "text/plain": [
       "0.8475543339876395"
      ]
     },
     "execution_count": 20,
     "metadata": {},
     "output_type": "execute_result"
    }
   ],
   "source": [
    "A@absorption.get_flux()*.83"
   ]
  },
  {
   "cell_type": "code",
   "execution_count": 21,
   "id": "cf2b7fb7",
   "metadata": {},
   "outputs": [
    {
     "data": {
      "text/plain": [
       "array([0.49669945, 0.49834143])"
      ]
     },
     "execution_count": 21,
     "metadata": {},
     "output_type": "execute_result"
    }
   ],
   "source": [
    "np.diag(A)@np.linalg.solve(MM, X)"
   ]
  },
  {
   "cell_type": "code",
   "execution_count": 22,
   "id": "dd449613",
   "metadata": {},
   "outputs": [
    {
     "data": {
      "text/plain": [
       "array([1.00000000e+00, 9.75973562e-18])"
      ]
     },
     "execution_count": 22,
     "metadata": {},
     "output_type": "execute_result"
    }
   ],
   "source": [
    "(T-S)@np.linalg.solve(MM, X)"
   ]
  },
  {
   "cell_type": "code",
   "execution_count": 23,
   "id": "73c5e3c1",
   "metadata": {},
   "outputs": [
    {
     "data": {
      "text/plain": [
       "array([1.00e-05, 6.25e-01, 1.00e+07])"
      ]
     },
     "execution_count": 23,
     "metadata": {},
     "output_type": "execute_result"
    }
   ],
   "source": [
    "total.energy_groups.group_edges"
   ]
  },
  {
   "cell_type": "code",
   "execution_count": 31,
   "id": "c4d47d67",
   "metadata": {},
   "outputs": [
    {
     "data": {
      "text/plain": [
       "(array([-1.11022302e-16,  1.31845120e+00]),\n",
       " array([[-0.99925905, -0.99645446],\n",
       "        [ 0.03848839, -0.0841339 ]]))"
      ]
     },
     "execution_count": 31,
     "metadata": {},
     "output_type": "execute_result"
    }
   ],
   "source": [
    "np.linalg.eig(np.linalg.inv(T-S)@FF)"
   ]
  },
  {
   "cell_type": "code",
   "execution_count": 32,
   "id": "8c15156f",
   "metadata": {},
   "outputs": [
    {
     "data": {
      "text/plain": [
       "11.904761904761903"
      ]
     },
     "execution_count": 32,
     "metadata": {},
     "output_type": "execute_result"
    }
   ],
   "source": [
    "1/.084"
   ]
  },
  {
   "cell_type": "code",
   "execution_count": 33,
   "id": "c0a93365",
   "metadata": {},
   "outputs": [
    {
     "data": {
      "text/plain": [
       "11.869230769230768"
      ]
     },
     "execution_count": 33,
     "metadata": {},
     "output_type": "execute_result"
    }
   ],
   "source": [
    "30.86/2.6"
   ]
  },
  {
   "cell_type": "code",
   "execution_count": null,
   "id": "7ff433ca",
   "metadata": {},
   "outputs": [],
   "source": []
  }
 ],
 "metadata": {
  "kernelspec": {
   "display_name": "Python 3 (ipykernel)",
   "language": "python",
   "name": "python3"
  },
  "language_info": {
   "codemirror_mode": {
    "name": "ipython",
    "version": 3
   },
   "file_extension": ".py",
   "mimetype": "text/x-python",
   "name": "python",
   "nbconvert_exporter": "python",
   "pygments_lexer": "ipython3",
   "version": "3.9.7"
  }
 },
 "nbformat": 4,
 "nbformat_minor": 5
}
